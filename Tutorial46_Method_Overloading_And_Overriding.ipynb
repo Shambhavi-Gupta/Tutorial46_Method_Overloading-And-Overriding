{
  "nbformat": 4,
  "nbformat_minor": 0,
  "metadata": {
    "colab": {
      "name": "Tutorial46_Method_Overloading-And-Overriding.ipynb",
      "provenance": [],
      "authorship_tag": "ABX9TyPfi7CE8wv+zW7nqaKHM90X",
      "include_colab_link": true
    },
    "kernelspec": {
      "name": "python3",
      "display_name": "Python 3"
    }
  },
  "cells": [
    {
      "cell_type": "markdown",
      "metadata": {
        "id": "view-in-github",
        "colab_type": "text"
      },
      "source": [
        "<a href=\"https://colab.research.google.com/github/Shambhavi-Gupta/Tutorial46_Method_Overloading-And-Overriding/blob/main/Tutorial46_Method_Overloading_And_Overriding.ipynb\" target=\"_parent\"><img src=\"https://colab.research.google.com/assets/colab-badge.svg\" alt=\"Open In Colab\"/></a>"
      ]
    },
    {
      "cell_type": "code",
      "metadata": {
        "id": "8_3-0YCmzHzW"
      },
      "source": [
        "parameters that are passed to the function,or the\r\n",
        "operands that the operator acts on.\"\"\"\r\n",
        "\r\n",
        "\"\"\"the method of the child class overrides the method\r\n",
        "of the parent class when called by an object of the \r\n",
        "child class.\r\n",
        "This is called method overriding.\"\"\"\r\n",
        "\r\n",
        "# class A:\r\n",
        "#     def add(self,a=None,b=None,c=None):\r\n",
        "#         if a!=None and b!=None and c!=None:\r\n",
        "#             p = a+b+c\r\n",
        "#         elif a!=None and b!=None:\r\n",
        "#             p = a+b\r\n",
        "#         else:\r\n",
        "#             p = \"You need to give atleast 2 values\"\r\n",
        "#         return p\r\n",
        "#\r\n",
        "# obj = A()\r\n",
        "# print(obj.add(2))\r\n",
        "\r\n",
        "class sub:\r\n",
        "    def out(self,p,q):\r\n",
        "        print(\"Subtraction\", p-q)\r\n",
        "\r\n",
        "class div:\r\n",
        "    def out(self,p,q):\r\n",
        "        print(\"Division\", p/q)\r\n",
        "\r\n",
        "d = div()\r\n",
        "d.out(15,5)\r\n"
      ],
      "execution_count": null,
      "outputs": []
    }
  ]
}